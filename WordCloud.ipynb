{
  "cells": [
    {
      "cell_type": "markdown",
      "metadata": {
        "id": "view-in-github",
        "colab_type": "text"
      },
      "source": [
        "<a href=\"https://colab.research.google.com/github/Evandro72/wordcloud1/blob/main/WordCloud.ipynb\" target=\"_parent\"><img src=\"https://colab.research.google.com/assets/colab-badge.svg\" alt=\"Open In Colab\"/></a>"
      ]
    },
    {
      "cell_type": "code",
      "source": [
        "pip install langdetect"
      ],
      "metadata": {
        "colab": {
          "base_uri": "https://localhost:8080/",
          "height": 0
        },
        "id": "a1IHB8SAiCPp",
        "outputId": "bb3d83bc-02ad-47d0-e7b8-a761b3af6e7e"
      },
      "id": "a1IHB8SAiCPp",
      "execution_count": 1,
      "outputs": [
        {
          "output_type": "stream",
          "name": "stdout",
          "text": [
            "Looking in indexes: https://pypi.org/simple, https://us-python.pkg.dev/colab-wheels/public/simple/\n",
            "Collecting langdetect\n",
            "  Downloading langdetect-1.0.9.tar.gz (981 kB)\n",
            "\u001b[K     |████████████████████████████████| 981 kB 7.7 MB/s \n",
            "\u001b[?25hRequirement already satisfied: six in /usr/local/lib/python3.7/dist-packages (from langdetect) (1.15.0)\n",
            "Building wheels for collected packages: langdetect\n",
            "  Building wheel for langdetect (setup.py) ... \u001b[?25l\u001b[?25hdone\n",
            "  Created wheel for langdetect: filename=langdetect-1.0.9-py3-none-any.whl size=993242 sha256=837a49a9b34e08518564b132ae262040ca30ac66d2b2ff4a31e595b0605af27e\n",
            "  Stored in directory: /root/.cache/pip/wheels/c5/96/8a/f90c59ed25d75e50a8c10a1b1c2d4c402e4dacfa87f3aff36a\n",
            "Successfully built langdetect\n",
            "Installing collected packages: langdetect\n",
            "Successfully installed langdetect-1.0.9\n"
          ]
        }
      ]
    },
    {
      "cell_type": "code",
      "source": [
        "pip install pycountry"
      ],
      "metadata": {
        "colab": {
          "base_uri": "https://localhost:8080/",
          "height": 0
        },
        "id": "c6Ff_AJCiK-h",
        "outputId": "8bd6e7fc-d6d2-43d9-86b4-256e3a6fa879"
      },
      "id": "c6Ff_AJCiK-h",
      "execution_count": 2,
      "outputs": [
        {
          "output_type": "stream",
          "name": "stdout",
          "text": [
            "Looking in indexes: https://pypi.org/simple, https://us-python.pkg.dev/colab-wheels/public/simple/\n",
            "Collecting pycountry\n",
            "  Downloading pycountry-22.3.5.tar.gz (10.1 MB)\n",
            "\u001b[K     |████████████████████████████████| 10.1 MB 8.4 MB/s \n",
            "\u001b[?25h  Installing build dependencies ... \u001b[?25l\u001b[?25hdone\n",
            "  Getting requirements to build wheel ... \u001b[?25l\u001b[?25hdone\n",
            "    Preparing wheel metadata ... \u001b[?25l\u001b[?25hdone\n",
            "Requirement already satisfied: setuptools in /usr/local/lib/python3.7/dist-packages (from pycountry) (57.4.0)\n",
            "Building wheels for collected packages: pycountry\n",
            "  Building wheel for pycountry (PEP 517) ... \u001b[?25l\u001b[?25hdone\n",
            "  Created wheel for pycountry: filename=pycountry-22.3.5-py2.py3-none-any.whl size=10681845 sha256=27393e65235ccc775e4337d2047e90bebfe073c9de8932f6bee6b967cde2aab0\n",
            "  Stored in directory: /root/.cache/pip/wheels/0e/06/e8/7ee176e95ea9a8a8c3b3afcb1869f20adbd42413d4611c6eb4\n",
            "Successfully built pycountry\n",
            "Installing collected packages: pycountry\n",
            "Successfully installed pycountry-22.3.5\n"
          ]
        }
      ]
    },
    {
      "cell_type": "code",
      "execution_count": 3,
      "id": "d7bea3e0",
      "metadata": {
        "id": "d7bea3e0"
      },
      "outputs": [],
      "source": [
        "from PIL import Image\n",
        "import pandas as pd\n",
        "import numpy as np\n",
        "from wordcloud import WordCloud, STOPWORDS\n",
        "from langdetect import detect\n",
        "import random\n",
        "import pycountry"
      ]
    },
    {
      "cell_type": "code",
      "execution_count": 5,
      "id": "8bd669fc",
      "metadata": {
        "id": "8bd669fc"
      },
      "outputs": [],
      "source": [
        "# Creating Language Dict\n",
        "Languages = {}\n",
        "\n",
        "for lang in pycountry.languages:\n",
        "    try:\n",
        "        Languages[lang.alpha_2] = lang.name\n",
        "    except:\n",
        "        pass"
      ]
    },
    {
      "cell_type": "code",
      "execution_count": 6,
      "id": "cdf8b6f2",
      "metadata": {
        "id": "cdf8b6f2"
      },
      "outputs": [],
      "source": [
        "# Tweets were based on these Languages \n",
        "Unique_Lang_Code = ['it', 'da', 'zh-cn', 'en', 'lt', 'fr', 'sl', 'hu', 'sq', 'sv', 'uk', 'sk', 'ca', 'lv', 'af', 'th', 'no', 'fi', 'vi', 'de', 'cy', 'ja', 'nl', 'es', 'cs', 'ro', 'tl', 'pl', 'id', 'fa', 'ru', 'et', 'sw', 'tr', 'pt', 'el', 'so', 'hr']"
      ]
    },
    {
      "cell_type": "code",
      "execution_count": 7,
      "id": "5413ebac",
      "metadata": {
        "id": "5413ebac"
      },
      "outputs": [],
      "source": [
        "# Reading CSV File\n",
        "df = pd.read_csv('Tweets.csv')"
      ]
    },
    {
      "cell_type": "code",
      "execution_count": 8,
      "id": "0f11080f",
      "metadata": {
        "id": "0f11080f"
      },
      "outputs": [],
      "source": [
        "# Filtering Tweets on Language\n",
        "\n",
        "Text_Dict = {}\n",
        "\n",
        "for index, tweet in enumerate(df['Cleaned_Tweet']):\n",
        "    try:\n",
        "        languade_2code = detect(tweet)\n",
        "\n",
        "        if Languages[languade_2code] in Text_Dict.keys():\n",
        "            Text_Dict[Languages[languade_2code]].append(df.loc[index, 'Cleaned_Tweet'])\n",
        "        else:\n",
        "            Text_Dict[Languages[languade_2code]] = []\n",
        "            Text_Dict[Languages[languade_2code]].append(df.loc[index, 'Cleaned_Tweet'])\n",
        "\n",
        "    except:\n",
        "        if 'Unknown' in Text_Dict.keys():\n",
        "            Text_Dict['Unknown'] = []\n",
        "            Text_Dict['Unknown'].append(df.loc[index, 'Cleaned_Tweet'])\n"
      ]
    },
    {
      "cell_type": "code",
      "execution_count": 9,
      "id": "dea67e6e",
      "metadata": {
        "id": "dea67e6e"
      },
      "outputs": [],
      "source": [
        "# Sorting Dictionary \n",
        "import operator\n",
        "\n",
        "def sort_by_values_len(dict):\n",
        "    dict_len= {key: len(value) for key, value in dict.items()}\n",
        "    \n",
        "    sorted_key_list = sorted(dict_len.items(), key=operator.itemgetter(1), reverse=True)\n",
        "    sorted_dict = [{item[0]: dict[item [0]]} for item in sorted_key_list]\n",
        "    return sorted_dict\n",
        "\n",
        "Sorted_Text_Dict = sort_by_values_len(Text_Dict)[0]"
      ]
    },
    {
      "cell_type": "code",
      "execution_count": 15,
      "id": "08f1e574",
      "metadata": {
        "id": "08f1e574"
      },
      "outputs": [],
      "source": [
        "# Word Cloud Function\n",
        "def CreateWordCloud(Key, Text, WCBGColor, maxword):\n",
        "    # create numpy array for wordcloud mask image\n",
        "    mask = np.array(Image.open('cloud.png'))\n",
        "\n",
        "    # create wordcloud object\n",
        "    wc = WordCloud(background_color=WCBGColor, max_words=int(maxword), mask=mask)\n",
        "\n",
        "    # generate wordcloud\n",
        "    wc.generate(Text)\n",
        "\n",
        "    wc.to_image().save(Key + '.png')"
      ]
    },
    {
      "cell_type": "code",
      "source": [
        "pip install wordcloud"
      ],
      "metadata": {
        "colab": {
          "base_uri": "https://localhost:8080/"
        },
        "id": "g75bw8AvtXFW",
        "outputId": "f1523c2e-0b50-4734-b8e9-5e104ec5bbe7"
      },
      "id": "g75bw8AvtXFW",
      "execution_count": 16,
      "outputs": [
        {
          "output_type": "stream",
          "name": "stdout",
          "text": [
            "Looking in indexes: https://pypi.org/simple, https://us-python.pkg.dev/colab-wheels/public/simple/\n",
            "Requirement already satisfied: wordcloud in /usr/local/lib/python3.7/dist-packages (1.8.2.2)\n",
            "Requirement already satisfied: numpy>=1.6.1 in /usr/local/lib/python3.7/dist-packages (from wordcloud) (1.21.6)\n",
            "Requirement already satisfied: pillow in /usr/local/lib/python3.7/dist-packages (from wordcloud) (7.1.2)\n",
            "Requirement already satisfied: matplotlib in /usr/local/lib/python3.7/dist-packages (from wordcloud) (3.2.2)\n",
            "Requirement already satisfied: pyparsing!=2.0.4,!=2.1.2,!=2.1.6,>=2.0.1 in /usr/local/lib/python3.7/dist-packages (from matplotlib->wordcloud) (3.0.9)\n",
            "Requirement already satisfied: kiwisolver>=1.0.1 in /usr/local/lib/python3.7/dist-packages (from matplotlib->wordcloud) (1.4.4)\n",
            "Requirement already satisfied: cycler>=0.10 in /usr/local/lib/python3.7/dist-packages (from matplotlib->wordcloud) (0.11.0)\n",
            "Requirement already satisfied: python-dateutil>=2.1 in /usr/local/lib/python3.7/dist-packages (from matplotlib->wordcloud) (2.8.2)\n",
            "Requirement already satisfied: typing-extensions in /usr/local/lib/python3.7/dist-packages (from kiwisolver>=1.0.1->matplotlib->wordcloud) (4.1.1)\n",
            "Requirement already satisfied: six>=1.5 in /usr/local/lib/python3.7/dist-packages (from python-dateutil>=2.1->matplotlib->wordcloud) (1.15.0)\n"
          ]
        }
      ]
    },
    {
      "cell_type": "code",
      "source": [
        "import wordcloud"
      ],
      "metadata": {
        "id": "aqzsYtKrtJgS"
      },
      "id": "aqzsYtKrtJgS",
      "execution_count": 17,
      "outputs": []
    },
    {
      "cell_type": "code",
      "execution_count": 18,
      "id": "aa3b4508",
      "metadata": {
        "id": "aa3b4508"
      },
      "outputs": [],
      "source": [
        "# Creating Word Cloud for Each Language in Output Folder\n",
        "for key in list(Text_Dict.keys())[:10]:    \n",
        "    text = ' '.join(Text_Dict[key])\n",
        "    CreateWordCloud(key, text, 'white', 200)"
      ]
    },
    {
      "cell_type": "code",
      "execution_count": 19,
      "id": "7b797228",
      "metadata": {
        "id": "7b797228"
      },
      "outputs": [],
      "source": [
        "# User Word Cloud\n",
        "User_List = df['User'].tolist()\n",
        "CreateWordCloud('User', ' '.join(User_List), 'white', 200)"
      ]
    },
    {
      "cell_type": "code",
      "execution_count": 20,
      "id": "a96bf113",
      "metadata": {
        "id": "a96bf113",
        "outputId": "0e1b6e0e-79fb-43a6-a0a1-ecd89821b3ab",
        "colab": {
          "base_uri": "https://localhost:8080/",
          "height": 435
        }
      },
      "outputs": [
        {
          "output_type": "display_data",
          "data": {
            "text/plain": [
              "<Figure size 720x360 with 1 Axes>"
            ],
            "image/png": "[encoded data removed]"
          },
          "metadata": {
            "needs_background": "light"
          }
        }
      ],
      "source": [
        "# Creating Bar Chart\n",
        "\n",
        "import numpy as np\n",
        "import matplotlib.pyplot as plt\n",
        "Lang = list(Text_Dict.keys())\n",
        "values = [len(item) for item in Text_Dict.values()]\n",
        "  \n",
        "fig = plt.figure(figsize = (10, 5))\n",
        " \n",
        "# creating the bar plot\n",
        "plt.bar(Lang, values, color ='red', width = 0.4)\n",
        "\n",
        "plt.xticks(rotation=45)\n",
        "plt.xlabel(\"Languages\")\n",
        "plt.ylabel(\"No.s of Tweets\")\n",
        "plt.title(\"Total Tweets in Different Languages\")\n",
        "plt.show()"
      ]
    },
    {
      "cell_type": "code",
      "execution_count": null,
      "id": "276de4d6",
      "metadata": {
        "id": "276de4d6"
      },
      "outputs": [],
      "source": []
    }
  ],
  "metadata": {
    "kernelspec": {
      "display_name": "Python 3 (ipykernel)",
      "language": "python",
      "name": "python3"
    },
    "language_info": {
      "codemirror_mode": {
        "name": "ipython",
        "version": 3
      },
      "file_extension": ".py",
      "mimetype": "text/x-python",
      "name": "python",
      "nbconvert_exporter": "python",
      "pygments_lexer": "ipython3",
      "version": "3.9.7"
    },
    "colab": {
      "provenance": [],
      "include_colab_link": true
    }
  },
  "nbformat": 4,
  "nbformat_minor": 5
}